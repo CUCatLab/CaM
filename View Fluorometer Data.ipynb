{
 "cells": [
  {
   "cell_type": "markdown",
   "metadata": {},
   "source": [
    "# Info\n",
    "\n",
    "This script is used to view fluorescence spectroscopy data.\n",
    "\n",
    "-----------------------\n",
    "Created by Jerry LaRue, larue@chapman.edu, 12/2018\n",
    "\n",
    "Last modified by Jerry LaRue, larue@chapman.edu, 03/2020"
   ]
  },
  {
   "cell_type": "markdown",
   "metadata": {},
   "source": [
    "# Plot Data"
   ]
  },
  {
   "cell_type": "code",
   "execution_count": 1,
   "metadata": {},
   "outputs": [
    {
     "data": {
      "application/vnd.jupyter.widget-view+json": {
       "model_id": "6e4d8db3e07244b6abe8e610699d3564",
       "version_major": 2,
       "version_minor": 0
      },
      "text/plain": [
       "Box(children=(Text(value='../', description='Folder', layout=Layout(width='80%'), placeholder='Type file path'…"
      ]
     },
     "metadata": {},
     "output_type": "display_data"
    },
    {
     "data": {
      "application/vnd.jupyter.widget-view+json": {
       "model_id": "fcb48d2b7e5e410a82dfd3e094cfac00",
       "version_major": 2,
       "version_minor": 0
      },
      "text/plain": [
       "Box(children=(Dropdown(description='File', layout=Layout(width='80%'), options=('Buffer Calculations.xlsx',), …"
      ]
     },
     "metadata": {},
     "output_type": "display_data"
    },
    {
     "data": {
      "application/vnd.jupyter.widget-view+json": {
       "model_id": "e10e2b454c3f41348ccfdb635670334a",
       "version_major": 2,
       "version_minor": 0
      },
      "text/plain": [
       "Box(children=(Text(value='', description='Filter:', placeholder='Type something', style=DescriptionStyle(descr…"
      ]
     },
     "metadata": {},
     "output_type": "display_data"
    },
    {
     "data": {
      "application/vnd.jupyter.widget-view+json": {
       "model_id": "c6dc689b849343fb81eac821d115e2eb",
       "version_major": 2,
       "version_minor": 0
      },
      "text/plain": [
       "SelectMultiple(description='Select runs', layout=Layout(width='80%'), options=('',), rows=20, style=Descriptio…"
      ]
     },
     "metadata": {},
     "output_type": "display_data"
    },
    {
     "data": {
      "application/vnd.jupyter.widget-view+json": {
       "model_id": "289fce607def482bb13792209659bc63",
       "version_major": 2,
       "version_minor": 0
      },
      "text/plain": [
       "Dropdown(description='Select background run', layout=Layout(width='80%'), options=('None',), style=Description…"
      ]
     },
     "metadata": {},
     "output_type": "display_data"
    },
    {
     "data": {
      "application/vnd.jupyter.widget-view+json": {
       "model_id": "cbb247d0b80a47deae6326a1f49d5636",
       "version_major": 2,
       "version_minor": 0
      },
      "text/plain": [
       "Button(description='Plot', style=ButtonStyle())"
      ]
     },
     "metadata": {},
     "output_type": "display_data"
    },
    {
     "data": {
      "application/vnd.jupyter.widget-view+json": {
       "model_id": "f34097d462b14957923dbcd781c577b9",
       "version_major": 2,
       "version_minor": 0
      },
      "text/plain": [
       "Output()"
      ]
     },
     "metadata": {},
     "output_type": "display_data"
    }
   ],
   "source": [
    "import ipywidgets as widgets\n",
    "from ipywidgets import Button, Layout\n",
    "import numpy as np\n",
    "import matplotlib.pyplot as plt\n",
    "import pandas as pd\n",
    "from IPython.display import clear_output, Javascript\n",
    "import re\n",
    "from importlib import reload\n",
    "\n",
    "import DataTools\n",
    "reload(DataTools)\n",
    "\n",
    "##### Defaults #####\n",
    "\n",
    "data = DataTools.Data()\n",
    "BackgroundNames = ['None']\n",
    "Names = ['']\n",
    "\n",
    "##### Buttons #####\n",
    "\n",
    "def UpdateFileList(b) :\n",
    "    FolderPath.value = FolderPath.value.replace('\\\\','/')\n",
    "    FileName.options = data.DataList(FolderPath.value)\n",
    "\n",
    "def Update_Runs_Clicked(b):\n",
    "    Runs = data.Runs()\n",
    "    Runs = [k for k in Runs if Filter.value in k]\n",
    "    Runs_Selected.options = Runs\n",
    "    Runs.insert(0,'None')\n",
    "    Background.options = Runs\n",
    "\n",
    "def SpectraToClipboard_Clicked(b):\n",
    "    DataToSave = data.Spectra\n",
    "    DataToSave.to_clipboard()\n",
    "\n",
    "def Update_Plot_Clicked(b):\n",
    "    with out :\n",
    "        clear_output(True)\n",
    "        Wavelength = np.zeros((0))\n",
    "        data.Plot(Runs_Selected.value,Background=Background.value)\n",
    "\n",
    "def LoadData(b):\n",
    "    with out :\n",
    "        clear_output(True)\n",
    "        \n",
    "        ##### Load data #####\n",
    "        \n",
    "        Data = data.LoadData(FileName.value)\n",
    "        \n",
    "        Runs = data.Runs()\n",
    "        Runs_Selected.options = Runs\n",
    "        Runs.insert(0,'None')\n",
    "        Background.options = Runs\n",
    "\n",
    "##### Widgets #####\n",
    "\n",
    "FolderPath = widgets.Text(\n",
    "    value='../',\n",
    "    placeholder='Type file path',\n",
    "    description='Folder',\n",
    "    layout=Layout(width='80%'),\n",
    "    style = {'description_width': '150px'},\n",
    "    disabled=False\n",
    ")\n",
    "\n",
    "FileName = widgets.Dropdown(\n",
    "    options=data.DataList(FolderPath.value),\n",
    "    description='File',\n",
    "    layout=Layout(width='80%'),\n",
    "    style = {'description_width': '150px'},\n",
    "    disabled=False,\n",
    ")\n",
    "\n",
    "button_UpdateFileList = widgets.Button(description=\"Update\")\n",
    "button_UpdateFileList.on_click(UpdateFileList)\n",
    "\n",
    "button_LoadData = widgets.Button(description=\"Load Data\")\n",
    "button_LoadData.on_click(LoadData)\n",
    "\n",
    "Filter = widgets.Text(\n",
    "    value='',\n",
    "    placeholder='Type something',\n",
    "    description='Filter:',\n",
    "    style = {'description_width': '150px'},\n",
    "    disabled=False\n",
    ")\n",
    "\n",
    "Update_Runs = widgets.Button(description=\"Update run list\")\n",
    "Update_Runs.on_click(Update_Runs_Clicked)\n",
    "\n",
    "SpectraToClipboard = widgets.Button(description=\"Copy selected data\")\n",
    "SpectraToClipboard.on_click(SpectraToClipboard_Clicked)\n",
    "\n",
    "Background = widgets.Dropdown(\n",
    "    options=BackgroundNames,\n",
    "    value='None',\n",
    "    layout=Layout(width='80%'),\n",
    "    description='Select background run',\n",
    "    style = {'description_width': '150px'},\n",
    "    disabled=False,\n",
    ")\n",
    "\n",
    "Runs_Selected = widgets.SelectMultiple(\n",
    "    options=Names,\n",
    "    style = {'width': '100px','description_width': '150px'},\n",
    "    rows=20,\n",
    "    layout=Layout(width='80%'),\n",
    "    description='Select runs',\n",
    "    disabled=False\n",
    ")\n",
    "\n",
    "Update_Plot = widgets.Button(description=\"Plot\")\n",
    "Update_Plot.on_click(Update_Plot_Clicked)\n",
    "\n",
    "##### Display #####\n",
    "\n",
    "display(widgets.Box([FolderPath,button_UpdateFileList]))\n",
    "display(widgets.Box([FileName,button_LoadData]))\n",
    "display(widgets.Box([Filter,Update_Runs,SpectraToClipboard]))\n",
    "display(Runs_Selected)\n",
    "display(Background)\n",
    "display(Update_Plot)\n",
    "\n",
    "out = widgets.Output()\n",
    "out"
   ]
  },
  {
   "cell_type": "code",
   "execution_count": null,
   "metadata": {
    "jupyter": {
     "source_hidden": true
    }
   },
   "outputs": [],
   "source": []
  }
 ],
 "metadata": {
  "kernelspec": {
   "display_name": "Python 3",
   "language": "python",
   "name": "python3"
  },
  "language_info": {
   "codemirror_mode": {
    "name": "ipython",
    "version": 3
   },
   "file_extension": ".py",
   "mimetype": "text/x-python",
   "name": "python",
   "nbconvert_exporter": "python",
   "pygments_lexer": "ipython3",
   "version": "3.7.4"
  }
 },
 "nbformat": 4,
 "nbformat_minor": 4
}
