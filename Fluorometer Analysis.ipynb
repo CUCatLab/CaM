{
 "cells": [
  {
   "cell_type": "markdown",
   "metadata": {},
   "source": [
    "# Info\n",
    "\n",
    "This script plots fluorescence spectroscopy data.\n",
    "\n",
    "-----------------------\n",
    "Created by Jerry LaRue, larue@chapman.edu, 12/2018\n",
    "\n",
    "Last modified by Jerry LaRue, larue@chapman.edu, 11/2019"
   ]
  },
  {
   "cell_type": "markdown",
   "metadata": {},
   "source": [
    "# Initialization"
   ]
  },
  {
   "cell_type": "code",
   "execution_count": 1,
   "metadata": {
    "jupyter": {
     "source_hidden": true
    }
   },
   "outputs": [
    {
     "data": {
      "application/vnd.jupyter.widget-view+json": {
       "model_id": "0b7cd38e800c4a52866acaeeb7c457bf",
       "version_major": 2,
       "version_minor": 0
      },
      "text/plain": [
       "Box(children=(Text(value='../', description='Folder', layout=Layout(width='80%'), placeholder='Type file path'…"
      ]
     },
     "metadata": {},
     "output_type": "display_data"
    },
    {
     "data": {
      "application/vnd.jupyter.widget-view+json": {
       "model_id": "c0505a19363445d1b8d9406f6f36ef25",
       "version_major": 2,
       "version_minor": 0
      },
      "text/plain": [
       "Dropdown(description='File', index=1, layout=Layout(width='80%'), options=('Buffer Calculations.xlsx', 'None')…"
      ]
     },
     "metadata": {},
     "output_type": "display_data"
    }
   ],
   "source": [
    "import ipywidgets as widgets\n",
    "from ipywidgets import Button, Layout\n",
    "import numpy as np\n",
    "import matplotlib.pyplot as plt\n",
    "import pandas as pd\n",
    "from matplotlib.pyplot import *\n",
    "from IPython.display import clear_output\n",
    "import csv\n",
    "from os import listdir\n",
    "from os.path import isfile, join\n",
    "import re\n",
    "\n",
    "##### Definitions #####\n",
    "\n",
    "def FileList() :\n",
    "    FileNames = [f for f in listdir(FolderPath.value) if isfile(join(FolderPath.value, f))]\n",
    "    FileNames.append('None')\n",
    "    return FileNames\n",
    "\n",
    "def UpdateFileList(b) :\n",
    "    FolderPath.value = FolderPath.value.replace('\\\\','/')\n",
    "    FileName.options = FileList()\n",
    "\n",
    "##### Select file #####\n",
    "\n",
    "FolderPath = widgets.Text(\n",
    "    value='../',\n",
    "    placeholder='Type file path',\n",
    "    description='Folder',\n",
    "    layout=Layout(width='80%'),\n",
    "    style = {'description_width': '150px'},\n",
    "    disabled=False\n",
    ")\n",
    "\n",
    "FileName = widgets.Dropdown(\n",
    "    options=FileList(),\n",
    "    value='None',\n",
    "    description='File',\n",
    "    layout=Layout(width='80%'),\n",
    "    style = {'description_width': '150px'},\n",
    "    disabled=False,\n",
    ")\n",
    "\n",
    "button_UpdateFileList = widgets.Button(description=\"Update\")\n",
    "button_UpdateFileList.on_click(UpdateFileList)\n",
    "\n",
    "display(widgets.Box([FolderPath,button_UpdateFileList]))\n",
    "display(FileName)"
   ]
  },
  {
   "cell_type": "markdown",
   "metadata": {},
   "source": [
    "# Plot data"
   ]
  },
  {
   "cell_type": "code",
   "execution_count": 14,
   "metadata": {
    "jupyter": {
     "source_hidden": true
    }
   },
   "outputs": [
    {
     "data": {
      "application/vnd.jupyter.widget-view+json": {
       "model_id": "64d946c7f4804c4193f6bfb18327d991",
       "version_major": 2,
       "version_minor": 0
      },
      "text/plain": [
       "Box(children=(Text(value='', description='Filter:', placeholder='Type something'), Button(description='Update …"
      ]
     },
     "metadata": {},
     "output_type": "display_data"
    },
    {
     "data": {
      "application/vnd.jupyter.widget-view+json": {
       "model_id": "ced65709a0a245bf96579fe4d05a7661",
       "version_major": 2,
       "version_minor": 0
      },
      "text/plain": [
       "SelectMultiple(description='Select runs', layout=Layout(width='80%'), options=('Apo_buffer_0em_0ex', 'Apo_buff…"
      ]
     },
     "metadata": {},
     "output_type": "display_data"
    },
    {
     "data": {
      "application/vnd.jupyter.widget-view+json": {
       "model_id": "4cd22dab7ce24de7b8d7c271654f4833",
       "version_major": 2,
       "version_minor": 0
      },
      "text/plain": [
       "Dropdown(description='Select background run', layout=Layout(width='80%'), options=('None', 'Apo_buffer_0em_0ex…"
      ]
     },
     "metadata": {},
     "output_type": "display_data"
    },
    {
     "data": {
      "application/vnd.jupyter.widget-view+json": {
       "model_id": "e3181afd227d4832942f80d795f65e38",
       "version_major": 2,
       "version_minor": 0
      },
      "text/plain": [
       "Button(description='Update Plot', style=ButtonStyle())"
      ]
     },
     "metadata": {},
     "output_type": "display_data"
    },
    {
     "data": {
      "application/vnd.jupyter.widget-view+json": {
       "model_id": "6e878b6a92674597958d42757d189ff7",
       "version_major": 2,
       "version_minor": 0
      },
      "text/plain": [
       "Output()"
      ]
     },
     "metadata": {},
     "output_type": "display_data"
    }
   ],
   "source": [
    "%matplotlib inline\n",
    "\n",
    "##### Load data #####\n",
    "\n",
    "with open(FolderPath.value+\"/\"+FileName.value) as f:\n",
    "    Content = f.readlines()\n",
    "DataLength = list()\n",
    "for index in range(len(Content)):\n",
    "    DataLength.append(len(Content[index].split('\\t')))\n",
    "DataStart = list()\n",
    "DataEnd = list()\n",
    "Counter = 0\n",
    "for index in range(len(DataLength)):\n",
    "    if DataLength[index] == 1 :\n",
    "        if Counter > 1 : DataEnd.append(index-1)\n",
    "        Counter = 0\n",
    "    else :\n",
    "        if Counter == 0 : DataStart.append(index+3)\n",
    "        Counter = Counter + 1\n",
    "Header = list()\n",
    "DataSets = 0\n",
    "for index in range(len(DataStart)):\n",
    "    DataSets = DataSets + DataLength[DataStart[index]]\n",
    "Data = np.zeros((DataSets,DataEnd[0]-DataStart[0]+1))\n",
    "for index in range(len(DataStart)):\n",
    "    for x in range(DataLength[DataStart[index]]):\n",
    "        Header.append(Content[DataStart[index]-2].split('\\t')[x])\n",
    "        for y in range(DataEnd[0]-DataStart[0]+1):\n",
    "            if Content[DataStart[index]+y].split('\\t')[x] != '' :\n",
    "                Data[x + index * DataLength[DataStart[index-1]]][y] = Content[DataStart[index]+y].split('\\t')[x]\n",
    "for index in range(2,int(len(Data)/2)+1):\n",
    "    Data = np.delete(Data,index,axis=0)\n",
    "    Header.remove(Header[index-1])\n",
    "Header.remove(Header[-1])\n",
    "Header.insert(0,'X')\n",
    "Data = pd.DataFrame(data=np.transpose(Data),columns=Header)\n",
    "Names = Header.copy()\n",
    "Names.remove(Names[0])\n",
    "BackgroundNames = Names.copy()\n",
    "BackgroundNames.insert(0,'None')\n",
    "\n",
    "##### Definitions #####\n",
    "\n",
    "def CreateSpectra() :\n",
    "    if Background.value != 'None' :\n",
    "        Buffer = Data[Background.value]\n",
    "    i = 0\n",
    "    Spectra = np.zeros((len(Runs_Selected.value)+1,len(Data[Data.columns[0]])))\n",
    "    Spectra[0] = Data[Data.columns[0]]\n",
    "    while i < len(Runs_Selected.value) :\n",
    "        Spectra[i+1] = Data[Runs_Selected.value[i]]\n",
    "        if Background.value != 'None' :\n",
    "            Spectra[i+1] = Spectra[i+1] - Buffer\n",
    "        i+=1\n",
    "    return Spectra\n",
    "\n",
    "def PlotData(Spectra) :\n",
    "    plt.figure(figsize=(12,8))\n",
    "    plt.xlabel('Wavelength (nm)',fontsize=16), plt.ylabel('Intensity (au)',fontsize=16)\n",
    "    i = 0\n",
    "    while i < Spectra.shape[0] - 1 :\n",
    "        plt.plot(Spectra[0],Spectra[i+1],label=Runs_Selected.value[i])\n",
    "        i+=1\n",
    "    plt.legend(frameon=False, loc='upper center', bbox_to_anchor=(1.4, 1), ncol=1, fontsize=16)\n",
    "    plt.tick_params(axis=\"x\", labelsize=16)\n",
    "    plt.tick_params(axis=\"y\", labelsize=16)\n",
    "    plt.show()\n",
    "\n",
    "def Update_Runs_Clicked(b):\n",
    "    with out:\n",
    "        FilteredNames = [k for k in Names if Filter.value in k]\n",
    "        Runs_Selected.options = FilteredNames\n",
    "        FilteredNames.insert(0,'None')\n",
    "        Background.options = FilteredNames\n",
    "\n",
    "def SpectraToClipboard_Clicked(b):\n",
    "    Spectra = CreateSpectra()\n",
    "    DataHeader = list(Runs_Selected.value)\n",
    "    DataHeader.insert(0,'X')\n",
    "    DataToSave = pd.DataFrame(data=np.transpose(Spectra),columns=DataHeader)\n",
    "    DataToSave.to_clipboard()\n",
    "\n",
    "def Update_Plot_Clicked(b):\n",
    "    with out:\n",
    "        clear_output(True)\n",
    "        Wavelength = np.zeros((0))\n",
    "        Spectra = CreateSpectra()\n",
    "        PlotData(Spectra)\n",
    "\n",
    "##### Load data #####\n",
    "\n",
    "Filter = widgets.Text(\n",
    "    value='',\n",
    "    placeholder='Type something',\n",
    "    description='Filter:',\n",
    "    disabled=False\n",
    ")\n",
    "\n",
    "Update_Runs = widgets.Button(description=\"Update run list\")\n",
    "Update_Runs.on_click(Update_Runs_Clicked)\n",
    "\n",
    "SpectraToClipboard = widgets.Button(description=\"Copy selected data\")\n",
    "SpectraToClipboard.on_click(SpectraToClipboard_Clicked)\n",
    "\n",
    "Background = widgets.Dropdown(\n",
    "    options=BackgroundNames,\n",
    "    value='None',\n",
    "    layout=Layout(width='80%'),\n",
    "    description='Select background run',\n",
    "    style = {'description_width': '150px'},\n",
    "    disabled=False,\n",
    ")\n",
    "\n",
    "if len(Names) < 20 :\n",
    "    NumberRows = len(Names)\n",
    "else :\n",
    "    NumberRows = 20\n",
    "\n",
    "Runs_Selected = widgets.SelectMultiple(\n",
    "    options=Names,\n",
    "    style = {'width': '100px','description_width': '150px'},\n",
    "    rows=NumberRows,\n",
    "    layout=Layout(width='80%'),\n",
    "    description='Select runs',\n",
    "    disabled=False\n",
    ")\n",
    "\n",
    "Update_Plot = widgets.Button(description=\"Update Plot\")\n",
    "Update_Plot.on_click(Update_Plot_Clicked)\n",
    "\n",
    "display(widgets.Box([Filter,Update_Runs,SpectraToClipboard]))\n",
    "display(Runs_Selected)\n",
    "display(Background)\n",
    "display(Update_Plot)\n",
    "out = widgets.Output()\n",
    "out"
   ]
  },
  {
   "cell_type": "markdown",
   "metadata": {},
   "source": [
    "***\n",
    "# Fit data"
   ]
  },
  {
   "cell_type": "code",
   "execution_count": 4,
   "metadata": {
    "jupyter": {
     "source_hidden": true
    }
   },
   "outputs": [
    {
     "data": {
      "image/png": "[encoded data removed]",
      "text/plain": [
       "<Figure size 432x288 with 1 Axes>"
      ]
     },
     "metadata": {
      "needs_background": "light"
     },
     "output_type": "display_data"
    },
    {
     "name": "stdout",
     "output_type": "stream",
     "text": [
      "Skewed Gaussian | Amplitude: 7781982.4657, Center: 567.3, Width: 17.692, Skew: -1.291\n",
      "_____________________________________________________________________________________\n"
     ]
    },
    {
     "data": {
      "image/png": "[encoded data removed]",
      "text/plain": [
       "<Figure size 720x360 with 1 Axes>"
      ]
     },
     "metadata": {
      "needs_background": "light"
     },
     "output_type": "display_data"
    },
    {
     "data": {
      "image/png": "[encoded data removed]",
      "text/plain": [
       "<Figure size 720x360 with 1 Axes>"
      ]
     },
     "metadata": {
      "needs_background": "light"
     },
     "output_type": "display_data"
    },
    {
     "data": {
      "application/vnd.jupyter.widget-view+json": {
       "model_id": "d5360c27fdb04615b612ee717adc7425",
       "version_major": 2,
       "version_minor": 0
      },
      "text/plain": [
       "Button(description='Copy fit parameters', style=ButtonStyle())"
      ]
     },
     "metadata": {},
     "output_type": "display_data"
    }
   ],
   "source": [
    "###### Initialization #####\n",
    "\n",
    "import lmfit\n",
    "from lmfit import model\n",
    "from lmfit.models import SkewedGaussianModel, GaussianModel, LinearModel, VoigtModel, PolynomialModel\n",
    "\n",
    "##### Definitions #####\n",
    "\n",
    "def FitsToClipboard_Clicked(b):\n",
    "    DataHeader = list(('Concentration','Wavelength','Intensity (Max)','Intenisty (Norm)'))\n",
    "    DataToSave = np.zeros((4,len(Wavelength)))\n",
    "    DataToSave[0] = Concentration\n",
    "    DataToSave[1] = Wavelength\n",
    "    DataToSave[2] = Intensity\n",
    "    DataToSave[3] = Intensity_Norm\n",
    "    DataToSave = pd.DataFrame(data=np.transpose(DataToSave),columns=DataHeader)\n",
    "    DataToSave['Name'] = Runs_Selected.value\n",
    "    DataToSave.to_clipboard()\n",
    "\n",
    "###### Load spectra #####\n",
    "\n",
    "Spectra = CreateSpectra()\n",
    "\n",
    "###### Setup arrays #####\n",
    "\n",
    "B_Slope = list()\n",
    "B_Intercept = list()\n",
    "G_Amplitude = list()\n",
    "G_Center = list()\n",
    "G_Sigma = list()\n",
    "G_Gamma = list()\n",
    "Wavelength = list()\n",
    "Intensity = list()\n",
    "Intensity_Norm = list()\n",
    "\n",
    "Concentration = np.zeros((len(Runs_Selected.value)))\n",
    "i = 0\n",
    "while i < len(Runs_Selected.value) :\n",
    "    m = re.search(']_(.+?)uL_', Runs_Selected.value[i])\n",
    "#     Concentration[i] = m.group(1)\n",
    "    Concentration[i]\n",
    "    i+=1\n",
    "\n",
    "##### Determine reference fit function #####\n",
    "\n",
    "Model = LinearModel(prefix='B_')\n",
    "Model = Model + SkewedGaussianModel(prefix='G_')\n",
    "Params = Model.make_params()\n",
    "\n",
    "##### Define constraints #####\n",
    "\n",
    "Params['B_slope'].value = 0\n",
    "Params['B_slope'].vary = False\n",
    "Params['B_intercept'].value = 0\n",
    "Params['B_intercept'].vary = False\n",
    "Params['G_amplitude'].value = 40000\n",
    "Params['G_amplitude'].min = 0\n",
    "Params['G_center'].value = 520\n",
    "Params['G_sigma'].value = 43\n",
    "Params['G_gamma'].value = 6\n",
    "\n",
    "##### Fit data #####\n",
    "\n",
    "i = 0\n",
    "while i < Spectra.shape[0] - 1 :\n",
    "    x = Spectra[0]\n",
    "    y = Spectra[i+1]\n",
    "    Fit = Model.fit(y, Params, x=x, fit_kws={'maxfev': 1000})\n",
    "    Comps = Fit.eval_components(Fit.params, x=x)\n",
    "\n",
    "    ##### Plot reference data and fits #####\n",
    "\n",
    "    plt.plot(x, y,'r.', label='data')\n",
    "    plt.plot(x, Fit.best_fit, 'k-', label='fit')\n",
    "    plt.plot(x, Comps['B_'], 'k--', label='Baseline')\n",
    "    plt.plot(x, Comps['G_'], 'b--', label='Gaussian')\n",
    "    plt.legend(), plt.xlabel('Wavelength (nm)'), plt.ylabel('Intensity (au)')\n",
    "    plt.title('Fluorescence')\n",
    "    plt.show()\n",
    "    print('Skewed Gaussian | Amplitude: ' + str(round(Fit.params['G_amplitude'].value,4)) + ', Center: ' + str(round(Fit.params['G_center'].value,1)) + ', Width: ' + str(round(Fit.params['G_sigma'].value,3)) + ', Skew: ' + str(round(Fit.params['G_gamma'].value,3)))\n",
    "    B_Slope.append(Fit.params['B_slope'].value)\n",
    "    B_Intercept.append(Fit.params['B_intercept'].value)\n",
    "    G_Amplitude.append(Fit.params['G_amplitude'].value)\n",
    "    G_Center.append(Fit.params['G_center'].value)\n",
    "    G_Sigma.append(Fit.params['G_sigma'].value)\n",
    "    G_Gamma.append(Fit.params['G_gamma'].value)\n",
    "    Wavelength.append(x[np.argmax(Fit.best_fit)])\n",
    "    Intensity.append(max(Fit.best_fit))\n",
    "    Intensity_Norm.append(G_Amplitude[i]/G_Amplitude[0])\n",
    "    i+=1\n",
    "    \n",
    "    print('_____________________________________________________________________________________')\n",
    "\n",
    "plt.figure(figsize=(10,5))\n",
    "plt.xlabel('Concentration'), plt.ylabel('Amplitude')\n",
    "plt.plot(Concentration,Intensity,'.-')\n",
    "plt.show()\n",
    "\n",
    "plt.figure(figsize=(10,5))\n",
    "plt.xlabel('Concentration'), plt.ylabel('Wavelength')\n",
    "plt.plot(Concentration,Wavelength,'.-')\n",
    "plt.show()\n",
    "\n",
    "FitsToClipboard = widgets.Button(description=\"Copy fit parameters\")\n",
    "FitsToClipboard.on_click(FitsToClipboard_Clicked)\n",
    "\n",
    "display(FitsToClipboard)"
   ]
  },
  {
   "cell_type": "markdown",
   "metadata": {},
   "source": [
    "***\n",
    "# Calculate anisotropy"
   ]
  },
  {
   "cell_type": "code",
   "execution_count": 14,
   "metadata": {},
   "outputs": [],
   "source": [
    "P0_I = np.array((Intensity))\n",
    "P0_C = np.array((Concentration))"
   ]
  },
  {
   "cell_type": "code",
   "execution_count": 18,
   "metadata": {},
   "outputs": [],
   "source": [
    "P90_I = np.array((Intensity))\n",
    "P90_C = np.array((Concentration))"
   ]
  },
  {
   "cell_type": "markdown",
   "metadata": {},
   "source": [
    "### Plot by concentration"
   ]
  },
  {
   "cell_type": "code",
   "execution_count": 87,
   "metadata": {},
   "outputs": [
    {
     "data": {
      "image/png": "[encoded data removed]",
      "text/plain": [
       "<Figure size 720x360 with 1 Axes>"
      ]
     },
     "metadata": {
      "needs_background": "light"
     },
     "output_type": "display_data"
    },
    {
     "data": {
      "application/vnd.jupyter.widget-view+json": {
       "model_id": "cc89015a30be4a0c85bb9ba72127e93d",
       "version_major": 2,
       "version_minor": 0
      },
      "text/plain": [
       "Button(description='Copy anisotropy data', style=ButtonStyle())"
      ]
     },
     "metadata": {},
     "output_type": "display_data"
    }
   ],
   "source": [
    "##### Definitions #####\n",
    "\n",
    "def AnisotropyToClipboard_Clicked(b):\n",
    "    DataHeader = list(('Concentration','Anisotropy'))\n",
    "    DataToSave = np.zeros((2,len(Common_C)))\n",
    "    DataToSave[0] = Common_C\n",
    "    DataToSave[1] = Contrast\n",
    "    DataToSave = pd.DataFrame(data=np.transpose(DataToSave),columns=DataHeader)\n",
    "    DataToSave['Name'] = Runs_Selected.value\n",
    "    DataToSave.to_clipboard()\n",
    "\n",
    "##### Calculate anisotropy #####\n",
    "\n",
    "Common = np.intersect1d(P0_C,P90_C,return_indices=True)\n",
    "Common_C = Common[0]\n",
    "P0_I_Common = P0_I[Common[1]]\n",
    "P90_I_Common = P90_I[Common[2]]\n",
    "Contrast = (P0_I_Common-P90_I_Common)/(P0_I_Common+2*P90_I_Common)\n",
    "\n",
    "plt.figure(figsize=(10,5))\n",
    "plt.xlabel('Concentration'), plt.ylabel('Contrast')\n",
    "plt.plot(Common_C,Contrast,'.-')\n",
    "plt.show()\n",
    "\n",
    "AnisotropyToClipboard = widgets.Button(description=\"Copy anisotropy data\")\n",
    "AnisotropyToClipboard.on_click(AnisotropyToClipboard_Clicked)\n",
    "\n",
    "display(AnisotropyToClipboard)"
   ]
  },
  {
   "cell_type": "markdown",
   "metadata": {},
   "source": [
    "### Plot by run number"
   ]
  },
  {
   "cell_type": "code",
   "execution_count": 19,
   "metadata": {},
   "outputs": [
    {
     "ename": "ValueError",
     "evalue": "operands could not be broadcast together with shapes (17,) (10,) ",
     "output_type": "error",
     "traceback": [
      "\u001b[1;31m---------------------------------------------------------------------------\u001b[0m",
      "\u001b[1;31mValueError\u001b[0m                                Traceback (most recent call last)",
      "\u001b[1;32m<ipython-input-19-644c5ab53d28>\u001b[0m in \u001b[0;36m<module>\u001b[1;34m\u001b[0m\n\u001b[0;32m      9\u001b[0m \u001b[1;31m##### Calculate anisotropy #####\u001b[0m\u001b[1;33m\u001b[0m\u001b[1;33m\u001b[0m\u001b[1;33m\u001b[0m\u001b[0m\n\u001b[0;32m     10\u001b[0m \u001b[1;33m\u001b[0m\u001b[0m\n\u001b[1;32m---> 11\u001b[1;33m \u001b[0mContrast\u001b[0m \u001b[1;33m=\u001b[0m \u001b[1;33m(\u001b[0m\u001b[0mP0_I\u001b[0m\u001b[1;33m-\u001b[0m\u001b[0mP90_I\u001b[0m\u001b[1;33m)\u001b[0m\u001b[1;33m/\u001b[0m\u001b[1;33m(\u001b[0m\u001b[0mP0_I\u001b[0m\u001b[1;33m+\u001b[0m\u001b[1;36m2\u001b[0m\u001b[1;33m*\u001b[0m\u001b[0mP90_I\u001b[0m\u001b[1;33m)\u001b[0m\u001b[1;33m\u001b[0m\u001b[1;33m\u001b[0m\u001b[0m\n\u001b[0m\u001b[0;32m     12\u001b[0m \u001b[0mNumRuns\u001b[0m \u001b[1;33m=\u001b[0m \u001b[0mrange\u001b[0m\u001b[1;33m(\u001b[0m\u001b[1;36m0\u001b[0m\u001b[1;33m,\u001b[0m\u001b[0mlen\u001b[0m\u001b[1;33m(\u001b[0m\u001b[0mP0_I\u001b[0m\u001b[1;33m)\u001b[0m\u001b[1;33m)\u001b[0m\u001b[1;33m\u001b[0m\u001b[1;33m\u001b[0m\u001b[0m\n\u001b[0;32m     13\u001b[0m \u001b[0mplt\u001b[0m\u001b[1;33m.\u001b[0m\u001b[0mfigure\u001b[0m\u001b[1;33m(\u001b[0m\u001b[0mfigsize\u001b[0m\u001b[1;33m=\u001b[0m\u001b[1;33m(\u001b[0m\u001b[1;36m10\u001b[0m\u001b[1;33m,\u001b[0m\u001b[1;36m5\u001b[0m\u001b[1;33m)\u001b[0m\u001b[1;33m)\u001b[0m\u001b[1;33m\u001b[0m\u001b[1;33m\u001b[0m\u001b[0m\n",
      "\u001b[1;31mValueError\u001b[0m: operands could not be broadcast together with shapes (17,) (10,) "
     ]
    }
   ],
   "source": [
    "##### Definitions #####\n",
    "\n",
    "def AnisotropyToClipboard_Clicked(b):\n",
    "    DataHeader = list(('Anisotropy',))\n",
    "    DataToSave = pd.DataFrame(data=np.transpose(Contrast),columns=DataHeader)\n",
    "    DataToSave['Name'] = Runs_Selected.value\n",
    "    DataToSave.to_clipboard()\n",
    "\n",
    "##### Calculate anisotropy #####\n",
    "\n",
    "Contrast = (P0_I-P90_I)/(P0_I+2*P90_I)\n",
    "NumRuns = range(0,len(P0_I))\n",
    "plt.figure(figsize=(10,5))\n",
    "plt.xlabel('Run'), plt.ylabel('Contrast')\n",
    "plt.plot(NumRuns,Contrast,'.-')\n",
    "plt.show()\n",
    "\n",
    "AnisotropyToClipboard = widgets.Button(description=\"Copy anisotropy data\")\n",
    "AnisotropyToClipboard.on_click(AnisotropyToClipboard_Clicked)\n",
    "\n",
    "display(AnisotropyToClipboard)"
   ]
  },
  {
   "cell_type": "markdown",
   "metadata": {},
   "source": [
    "# Numerically integrate data"
   ]
  },
  {
   "cell_type": "code",
   "execution_count": 5,
   "metadata": {},
   "outputs": [
    {
     "data": {
      "image/png": "[encoded data removed]",
      "text/plain": [
       "<Figure size 720x360 with 1 Axes>"
      ]
     },
     "metadata": {
      "needs_background": "light"
     },
     "output_type": "display_data"
    },
    {
     "data": {
      "image/png": "[encoded data removed]",
      "text/plain": [
       "<Figure size 720x360 with 1 Axes>"
      ]
     },
     "metadata": {
      "needs_background": "light"
     },
     "output_type": "display_data"
    },
    {
     "data": {
      "application/vnd.jupyter.widget-view+json": {
       "model_id": "c693d76ceb9347ea956c0c867e8605ca",
       "version_major": 2,
       "version_minor": 0
      },
      "text/plain": [
       "Button(description='Copy data', style=ButtonStyle())"
      ]
     },
     "metadata": {},
     "output_type": "display_data"
    }
   ],
   "source": [
    "%matplotlib inline\n",
    "\n",
    "\n",
    "def NumIntToClipboard_Clicked(b):\n",
    "    DataToSave = pd.DataFrame(data=np.transpose(TempData))\n",
    "    DataToSave.to_clipboard()\n",
    "\n",
    "Width = 9\n",
    "\n",
    "Integrated = list()\n",
    "Wavelength = list()\n",
    "Spectra = CreateSpectra()\n",
    "i = 0\n",
    "while i < len(Runs_Selected.value) :\n",
    "    x = Spectra[0]\n",
    "    y = Spectra[i+1]\n",
    "    Index = list(range(int(np.argmax(y)-Width),int(np.argmax(y)+Width+1)))\n",
    "    Integrated.append(np.mean(y[Index]))\n",
    "    Wavelength.append(x[np.argmax(y)])\n",
    "    i+=1\n",
    "\n",
    "TempData = np.zeros((2,len(Integrated)))\n",
    "TempData[0] = Integrated\n",
    "TempData[1] = Wavelength\n",
    "\n",
    "plt.figure(figsize=(10,5))\n",
    "plt.xlabel('Run'), plt.ylabel('Integrated')\n",
    "plt.plot(Integrated,'.-')\n",
    "plt.show()\n",
    "\n",
    "plt.figure(figsize=(10,5))\n",
    "plt.xlabel('Run'), plt.ylabel('Wavelength')\n",
    "plt.plot(Wavelength,'.-')\n",
    "plt.show()\n",
    "\n",
    "\n",
    "NumIntToClipboard = widgets.Button(description=\"Copy data\")\n",
    "NumIntToClipboard.on_click(NumIntToClipboard_Clicked)\n",
    "\n",
    "display(NumIntToClipboard)"
   ]
  },
  {
   "cell_type": "code",
   "execution_count": 65,
   "metadata": {},
   "outputs": [],
   "source": [
    "P0=Integrated"
   ]
  },
  {
   "cell_type": "code",
   "execution_count": 67,
   "metadata": {},
   "outputs": [],
   "source": [
    "P90=Integrated"
   ]
  },
  {
   "cell_type": "code",
   "execution_count": 68,
   "metadata": {},
   "outputs": [
    {
     "data": {
      "image/png": "[encoded data removed]",
      "text/plain": [
       "<matplotlib.figure.Figure at 0x1c7497bca20>"
      ]
     },
     "metadata": {},
     "output_type": "display_data"
    }
   ],
   "source": [
    "Contrast = list()\n",
    "i = 0\n",
    "while i < len(P0) :\n",
    "    Contrast.append((P0[i]-P90[i])/(P0[i]+P90[i]))\n",
    "    i+=1\n",
    "plt.figure(figsize=(10,5))\n",
    "plt.xlabel('Run'), plt.ylabel('Contrast')\n",
    "plt.plot(Contrast,'.-')\n",
    "plt.show()"
   ]
  },
  {
   "cell_type": "code",
   "execution_count": null,
   "metadata": {},
   "outputs": [],
   "source": []
  }
 ],
 "metadata": {
  "kernelspec": {
   "display_name": "Python 3",
   "language": "python",
   "name": "python3"
  },
  "language_info": {
   "codemirror_mode": {
    "name": "ipython",
    "version": 3
   },
   "file_extension": ".py",
   "mimetype": "text/x-python",
   "name": "python",
   "nbconvert_exporter": "python",
   "pygments_lexer": "ipython3",
   "version": "3.7.3"
  }
 },
 "nbformat": 4,
 "nbformat_minor": 4
}
