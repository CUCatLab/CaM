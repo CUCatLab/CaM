{
 "cells": [
  {
   "cell_type": "code",
   "execution_count": 7,
   "id": "1c2fb36a-02ea-4154-94ac-a0585d5f085e",
   "metadata": {},
   "outputs": [
    {
     "data": {
      "text/plain": [
       "<module 'tools.calculations' from 'C:\\\\Users\\\\larue\\\\OneDrive - Chapman University\\\\Research\\\\Calmodulin Interactions\\\\Data Analysis\\\\tools\\\\calculations.py'>"
      ]
     },
     "execution_count": 7,
     "metadata": {},
     "output_type": "execute_result"
    }
   ],
   "source": [
    "from tools import calculations\n",
    "from importlib import reload\n",
    "reload(calculations)"
   ]
  },
  {
   "cell_type": "markdown",
   "id": "7e4f749f-f114-4117-89b7-c9a14b7204c7",
   "metadata": {},
   "source": [
    "<h1>Protein Calculator</h1>"
   ]
  },
  {
   "cell_type": "code",
   "execution_count": 6,
   "id": "1ca94316-43f5-4808-823c-b47608190419",
   "metadata": {
    "tags": []
   },
   "outputs": [
    {
     "data": {
      "application/vnd.jupyter.widget-view+json": {
       "model_id": "27276f496c0e424fa0833b99c4609158",
       "version_major": 2,
       "version_minor": 0
      },
      "text/plain": [
       "Box(children=(Text(value='', description='Sequence:', layout=Layout(width='75%'), placeholder='Paste sequence'…"
      ]
     },
     "metadata": {},
     "output_type": "display_data"
    },
    {
     "data": {
      "application/vnd.jupyter.widget-view+json": {
       "model_id": "f8a728880c66444bacb87f85e53662c2",
       "version_major": 2,
       "version_minor": 0
      },
      "text/plain": [
       "Output()"
      ]
     },
     "metadata": {},
     "output_type": "display_data"
    }
   ],
   "source": [
    "calculations.MassCalculator()"
   ]
  },
  {
   "cell_type": "markdown",
   "id": "eb9da72d-e37f-471f-8e02-ab4aeabe6a79",
   "metadata": {},
   "source": [
    "<h1>Concentration Calculator</h1>"
   ]
  },
  {
   "cell_type": "code",
   "execution_count": 4,
   "id": "bc4fdd0c-7315-4173-98c1-ffffe3b6de81",
   "metadata": {
    "tags": []
   },
   "outputs": [
    {
     "data": {
      "application/vnd.jupyter.widget-view+json": {
       "model_id": "11ec0c785641457abb3e98dcd8d158f3",
       "version_major": 2,
       "version_minor": 0
      },
      "text/plain": [
       "FloatText(value=1.0, description='Volume (mL):', style=DescriptionStyle(description_width='120px'))"
      ]
     },
     "metadata": {},
     "output_type": "display_data"
    },
    {
     "data": {
      "application/vnd.jupyter.widget-view+json": {
       "model_id": "c87a124d6adf4f95aeb683327237f9a2",
       "version_major": 2,
       "version_minor": 0
      },
      "text/plain": [
       "FloatText(value=50.0, description='Concentration (μM):', style=DescriptionStyle(description_width='120px'))"
      ]
     },
     "metadata": {},
     "output_type": "display_data"
    },
    {
     "data": {
      "application/vnd.jupyter.widget-view+json": {
       "model_id": "8f70d7e5adb341e9b9bbe9e0d844c285",
       "version_major": 2,
       "version_minor": 0
      },
      "text/plain": [
       "Dropdown(description='Number:', options=('CaM_Full', 'CaM_1J7P_8_28_C', 'CaM_1J70_29_43_N', 'AlphaSyn_Tagged',…"
      ]
     },
     "metadata": {},
     "output_type": "display_data"
    },
    {
     "data": {
      "application/vnd.jupyter.widget-view+json": {
       "model_id": "7b2093469cec49c78b218e81f77cf9c9",
       "version_major": 2,
       "version_minor": 0
      },
      "text/plain": [
       "Button(description='Calculate', style=ButtonStyle())"
      ]
     },
     "metadata": {},
     "output_type": "display_data"
    },
    {
     "data": {
      "application/vnd.jupyter.widget-view+json": {
       "model_id": "c638adc856f34a2a859daa3841804d9a",
       "version_major": 2,
       "version_minor": 0
      },
      "text/plain": [
       "Output()"
      ]
     },
     "metadata": {},
     "output_type": "display_data"
    }
   ],
   "source": [
    "calculations.SolutionCalculator()"
   ]
  },
  {
   "cell_type": "markdown",
   "id": "6800652b-a94e-4597-8b38-80c0dd0fd42f",
   "metadata": {},
   "source": [
    "<h1>Molecules</h1>"
   ]
  },
  {
   "cell_type": "code",
   "execution_count": 5,
   "id": "0243b3c8-3f8b-4dc5-ab98-bfc53f707d22",
   "metadata": {
    "tags": []
   },
   "outputs": [
    {
     "data": {
      "text/html": [
       "<div>\n",
       "<style scoped>\n",
       "    .dataframe tbody tr th:only-of-type {\n",
       "        vertical-align: middle;\n",
       "    }\n",
       "\n",
       "    .dataframe tbody tr th {\n",
       "        vertical-align: top;\n",
       "    }\n",
       "\n",
       "    .dataframe thead th {\n",
       "        text-align: right;\n",
       "    }\n",
       "</style>\n",
       "<table border=\"1\" class=\"dataframe\">\n",
       "  <thead>\n",
       "    <tr style=\"text-align: right;\">\n",
       "      <th></th>\n",
       "      <th>Mass (g/mol)</th>\n",
       "    </tr>\n",
       "  </thead>\n",
       "  <tbody>\n",
       "    <tr>\n",
       "      <th>CaM_Full</th>\n",
       "      <td>16677.7</td>\n",
       "    </tr>\n",
       "    <tr>\n",
       "      <th>CaM_1J7P_8_28_C</th>\n",
       "      <td>7706.5</td>\n",
       "    </tr>\n",
       "    <tr>\n",
       "      <th>CaM_1J70_29_43_N</th>\n",
       "      <td>8424.9</td>\n",
       "    </tr>\n",
       "    <tr>\n",
       "      <th>AlphaSyn_Tagged</th>\n",
       "      <td>2322.4</td>\n",
       "    </tr>\n",
       "    <tr>\n",
       "      <th>AlphaSyn_Full</th>\n",
       "      <td>14433.1</td>\n",
       "    </tr>\n",
       "    <tr>\n",
       "      <th>HIVMA_P17_8_43</th>\n",
       "      <td>4542.5</td>\n",
       "    </tr>\n",
       "    <tr>\n",
       "      <th>HIVMA_P17_8_28_C</th>\n",
       "      <td>2633.4</td>\n",
       "    </tr>\n",
       "    <tr>\n",
       "      <th>HIVMA_P17_29-43_N</th>\n",
       "      <td>1909.0</td>\n",
       "    </tr>\n",
       "    <tr>\n",
       "      <th>KCl</th>\n",
       "      <td>74.6</td>\n",
       "    </tr>\n",
       "    <tr>\n",
       "      <th>CaCl2</th>\n",
       "      <td>111.0</td>\n",
       "    </tr>\n",
       "    <tr>\n",
       "      <th>CaCl2_Hyd</th>\n",
       "      <td>147.0</td>\n",
       "    </tr>\n",
       "    <tr>\n",
       "      <th>NTA</th>\n",
       "      <td>191.1</td>\n",
       "    </tr>\n",
       "    <tr>\n",
       "      <th>HEPES</th>\n",
       "      <td>238.3</td>\n",
       "    </tr>\n",
       "    <tr>\n",
       "      <th>EGTA</th>\n",
       "      <td>380.4</td>\n",
       "    </tr>\n",
       "    <tr>\n",
       "      <th>MgCl2</th>\n",
       "      <td>95.2</td>\n",
       "    </tr>\n",
       "    <tr>\n",
       "      <th>MgCl2_Hyd</th>\n",
       "      <td>203.3</td>\n",
       "    </tr>\n",
       "  </tbody>\n",
       "</table>\n",
       "</div>"
      ],
      "text/plain": [
       "                   Mass (g/mol)\n",
       "CaM_Full                16677.7\n",
       "CaM_1J7P_8_28_C          7706.5\n",
       "CaM_1J70_29_43_N         8424.9\n",
       "AlphaSyn_Tagged          2322.4\n",
       "AlphaSyn_Full           14433.1\n",
       "HIVMA_P17_8_43           4542.5\n",
       "HIVMA_P17_8_28_C         2633.4\n",
       "HIVMA_P17_29-43_N        1909.0\n",
       "KCl                        74.6\n",
       "CaCl2                     111.0\n",
       "CaCl2_Hyd                 147.0\n",
       "NTA                       191.1\n",
       "HEPES                     238.3\n",
       "EGTA                      380.4\n",
       "MgCl2                      95.2\n",
       "MgCl2_Hyd                 203.3"
      ]
     },
     "execution_count": 5,
     "metadata": {},
     "output_type": "execute_result"
    }
   ],
   "source": [
    "calculations.MoleculesTable"
   ]
  },
  {
   "cell_type": "markdown",
   "id": "73f5d69d-9ec9-4ad0-bf63-bebbf883e3a8",
   "metadata": {},
   "source": [
    " "
   ]
  }
 ],
 "metadata": {
  "kernelspec": {
   "display_name": "Python 3 (ipykernel)",
   "language": "python",
   "name": "python3"
  },
  "language_info": {
   "codemirror_mode": {
    "name": "ipython",
    "version": 3
   },
   "file_extension": ".py",
   "mimetype": "text/x-python",
   "name": "python",
   "nbconvert_exporter": "python",
   "pygments_lexer": "ipython3",
   "version": "3.10.14"
  }
 },
 "nbformat": 4,
 "nbformat_minor": 5
}
