{
 "cells": [
  {
   "cell_type": "markdown",
   "id": "7e4f749f-f114-4117-89b7-c9a14b7204c7",
   "metadata": {},
   "source": [
    "<h1>Protein Calculator</h1>"
   ]
  },
  {
   "cell_type": "code",
   "execution_count": 1,
   "id": "1ca94316-43f5-4808-823c-b47608190419",
   "metadata": {},
   "outputs": [
    {
     "data": {
      "application/vnd.jupyter.widget-view+json": {
       "model_id": "3313ddd04edd4b0c8590787c16e66db7",
       "version_major": 2,
       "version_minor": 0
      },
      "text/plain": [
       "Box(children=(Text(value='', description='Sequence:', layout=Layout(width='75%'), placeholder='Paste sequence'…"
      ]
     },
     "metadata": {},
     "output_type": "display_data"
    },
    {
     "data": {
      "application/vnd.jupyter.widget-view+json": {
       "model_id": "05e04727e0294810857e99a96fc09ae2",
       "version_major": 2,
       "version_minor": 0
      },
      "text/plain": [
       "Output()"
      ]
     },
     "metadata": {},
     "output_type": "display_data"
    }
   ],
   "source": [
    "import Tools\n",
    "\n",
    "Tools.Protein().UI()"
   ]
  },
  {
   "cell_type": "markdown",
   "id": "eb9da72d-e37f-471f-8e02-ab4aeabe6a79",
   "metadata": {},
   "source": [
    "<h1>Concentration Calculator</h1>"
   ]
  },
  {
   "cell_type": "code",
   "execution_count": 3,
   "id": "bc4fdd0c-7315-4173-98c1-ffffe3b6de81",
   "metadata": {},
   "outputs": [
    {
     "data": {
      "application/vnd.jupyter.widget-view+json": {
       "model_id": "a8115f3b175f4460874949b5775787fc",
       "version_major": 2,
       "version_minor": 0
      },
      "text/plain": [
       "FloatText(value=1.0, description='mL:')"
      ]
     },
     "metadata": {},
     "output_type": "display_data"
    },
    {
     "data": {
      "application/vnd.jupyter.widget-view+json": {
       "model_id": "599a1b373b124332af6d6ee3d223c574",
       "version_major": 2,
       "version_minor": 0
      },
      "text/plain": [
       "FloatText(value=50.0, description='μM:')"
      ]
     },
     "metadata": {},
     "output_type": "display_data"
    },
    {
     "data": {
      "application/vnd.jupyter.widget-view+json": {
       "model_id": "7603fc12ea314c6483d0a4b29f9fb4b8",
       "version_major": 2,
       "version_minor": 0
      },
      "text/plain": [
       "FloatText(value=2320.0, description='g/mol:')"
      ]
     },
     "metadata": {},
     "output_type": "display_data"
    },
    {
     "data": {
      "application/vnd.jupyter.widget-view+json": {
       "model_id": "465a1755b0bd4afa8e95ad845779e57c",
       "version_major": 2,
       "version_minor": 0
      },
      "text/plain": [
       "Button(description='Calculate', style=ButtonStyle())"
      ]
     },
     "metadata": {},
     "output_type": "display_data"
    },
    {
     "data": {
      "application/vnd.jupyter.widget-view+json": {
       "model_id": "043be17190b741dbab686cefa9544341",
       "version_major": 2,
       "version_minor": 0
      },
      "text/plain": [
       "Output()"
      ]
     },
     "metadata": {},
     "output_type": "display_data"
    }
   ],
   "source": [
    "import Tools\n",
    "\n",
    "Tools.Solutions().UI()"
   ]
  },
  {
   "cell_type": "markdown",
   "id": "033f5358-1fbd-420a-ac2a-102af5574252",
   "metadata": {},
   "source": [
    " "
   ]
  }
 ],
 "metadata": {
  "kernelspec": {
   "display_name": "Python 3 (ipykernel)",
   "language": "python",
   "name": "python3"
  },
  "language_info": {
   "codemirror_mode": {
    "name": "ipython",
    "version": 3
   },
   "file_extension": ".py",
   "mimetype": "text/x-python",
   "name": "python",
   "nbconvert_exporter": "python",
   "pygments_lexer": "ipython3",
   "version": "3.8.11"
  }
 },
 "nbformat": 4,
 "nbformat_minor": 5
}
