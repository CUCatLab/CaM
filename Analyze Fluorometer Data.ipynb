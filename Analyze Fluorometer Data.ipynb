{
 "cells": [
  {
   "cell_type": "markdown",
   "metadata": {},
   "source": [
    "# Info\n",
    "\n",
    "This script is used to analyze fluorescence spectroscopy data.\n",
    "\n",
    "-----------------------\n",
    "Created by Jerry LaRue, larue@chapman.edu, 12/2018\n",
    "\n",
    "Last modified by Jerry LaRue, larue@chapman.edu, 03/2020"
   ]
  },
  {
   "cell_type": "markdown",
   "metadata": {},
   "source": [
    "# Plot Data"
   ]
  },
  {
   "cell_type": "code",
   "execution_count": 1,
   "metadata": {},
   "outputs": [
    {
     "data": {
      "application/vnd.jupyter.widget-view+json": {
       "model_id": "cad339b6f78842d2899ec20b81dda0c2",
       "version_major": 2,
       "version_minor": 0
      },
      "text/plain": [
       "Box(children=(Text(value='../', description='Folder', layout=Layout(width='80%'), placeholder='Type file path'…"
      ]
     },
     "metadata": {},
     "output_type": "display_data"
    },
    {
     "data": {
      "application/vnd.jupyter.widget-view+json": {
       "model_id": "4757bb8f9d8f4c39a904157253b188fc",
       "version_major": 2,
       "version_minor": 0
      },
      "text/plain": [
       "Box(children=(Dropdown(description='File', layout=Layout(width='80%'), options=('Buffer Calculations.xlsx',), …"
      ]
     },
     "metadata": {},
     "output_type": "display_data"
    },
    {
     "data": {
      "application/vnd.jupyter.widget-view+json": {
       "model_id": "a2805d4c62ba43648fe4c255a247ac0b",
       "version_major": 2,
       "version_minor": 0
      },
      "text/plain": [
       "Box(children=(Text(value='', description='Filter:', placeholder='Type something', style=DescriptionStyle(descr…"
      ]
     },
     "metadata": {},
     "output_type": "display_data"
    },
    {
     "data": {
      "application/vnd.jupyter.widget-view+json": {
       "model_id": "430d9f1761f845f8bdf23fb6e4604855",
       "version_major": 2,
       "version_minor": 0
      },
      "text/plain": [
       "SelectMultiple(description='Select runs', layout=Layout(width='80%'), options=('',), rows=20, style=Descriptio…"
      ]
     },
     "metadata": {},
     "output_type": "display_data"
    },
    {
     "data": {
      "application/vnd.jupyter.widget-view+json": {
       "model_id": "213fa1ef9f994b34b4ba8a41247f3636",
       "version_major": 2,
       "version_minor": 0
      },
      "text/plain": [
       "Dropdown(description='Select background run', layout=Layout(width='80%'), options=('None',), style=Description…"
      ]
     },
     "metadata": {},
     "output_type": "display_data"
    },
    {
     "data": {
      "application/vnd.jupyter.widget-view+json": {
       "model_id": "0eaed596dfa14580815266a94872f8e5",
       "version_major": 2,
       "version_minor": 0
      },
      "text/plain": [
       "Box(children=(Button(description='Plot', style=ButtonStyle()), Button(description='Copy plot data', style=Butt…"
      ]
     },
     "metadata": {},
     "output_type": "display_data"
    },
    {
     "data": {
      "application/vnd.jupyter.widget-view+json": {
       "model_id": "50dc2c8d5fdb4a5bb388d306823da5df",
       "version_major": 2,
       "version_minor": 0
      },
      "text/plain": [
       "Output()"
      ]
     },
     "metadata": {},
     "output_type": "display_data"
    }
   ],
   "source": [
    "import ipywidgets as widgets\n",
    "from ipywidgets import Button, Layout\n",
    "import numpy as np\n",
    "import matplotlib.pyplot as plt\n",
    "import pandas as pd\n",
    "from IPython.display import clear_output, Javascript\n",
    "import re\n",
    "from importlib import reload\n",
    "\n",
    "import DataTools\n",
    "reload(DataTools)\n",
    "\n",
    "##### Defaults #####\n",
    "\n",
    "data = DataTools.Data()\n",
    "BackgroundNames = ['None']\n",
    "Names = ['']\n",
    "\n",
    "##### Button Functions #####\n",
    "\n",
    "def UpdateFileList(b) :\n",
    "    FolderPath.value = FolderPath.value.replace('\\\\','/')\n",
    "    FileName.options = data.DataList(FolderPath.value)\n",
    "\n",
    "def Update_Runs_Clicked(b):\n",
    "    Runs = data.Runs()\n",
    "    Runs = [k for k in Runs if Filter.value in k]\n",
    "    Runs_Selected.options = Runs\n",
    "    Runs.insert(0,'None')\n",
    "    Background.options = Runs\n",
    "\n",
    "def SpectraToClipboard_Clicked(b):\n",
    "    DataToSave = data.Spectra\n",
    "    DataToSave.to_clipboard()\n",
    "\n",
    "def Update_Plot_Clicked(b):\n",
    "    with out :\n",
    "        clear_output(True)\n",
    "        Wavelength = np.zeros((0))\n",
    "        data.Plot(Runs_Selected.value,Background=Background.value)\n",
    "\n",
    "def LoadData(b):\n",
    "    with out :\n",
    "        clear_output(True)\n",
    "        \n",
    "        ##### Load data #####\n",
    "        \n",
    "        Data = data.LoadData(FileName.value)\n",
    "        Runs = data.Runs()\n",
    "        Runs_Selected.options = Runs\n",
    "        Runs.insert(0,'None')\n",
    "        Background.options = Runs\n",
    "\n",
    "##### Widgets #####\n",
    "\n",
    "FolderPath = widgets.Text(\n",
    "    value='../',\n",
    "    placeholder='Type file path',\n",
    "    description='Folder',\n",
    "    layout=Layout(width='80%'),\n",
    "    style = {'description_width': '150px'},\n",
    "    disabled=False\n",
    ")\n",
    "\n",
    "FileName = widgets.Dropdown(\n",
    "    options=data.DataList(FolderPath.value),\n",
    "    description='File',\n",
    "    layout=Layout(width='80%'),\n",
    "    style = {'description_width': '150px'},\n",
    "    disabled=False,\n",
    ")\n",
    "\n",
    "button_UpdateFileList = widgets.Button(description=\"Update\")\n",
    "button_UpdateFileList.on_click(UpdateFileList)\n",
    "\n",
    "button_LoadData = widgets.Button(description=\"Load data\")\n",
    "button_LoadData.on_click(LoadData)\n",
    "\n",
    "Filter = widgets.Text(\n",
    "    value='',\n",
    "    placeholder='Type something',\n",
    "    description='Filter:',\n",
    "    style = {'description_width': '150px'},\n",
    "    disabled=False\n",
    ")\n",
    "\n",
    "Update_Runs = widgets.Button(description=\"Update run list\")\n",
    "Update_Runs.on_click(Update_Runs_Clicked)\n",
    "\n",
    "SpectraToClipboard = widgets.Button(description=\"Copy plot data\")\n",
    "SpectraToClipboard.on_click(SpectraToClipboard_Clicked)\n",
    "\n",
    "Background = widgets.Dropdown(\n",
    "    options=BackgroundNames,\n",
    "    value='None',\n",
    "    layout=Layout(width='80%'),\n",
    "    description='Select background run',\n",
    "    style = {'description_width': '150px'},\n",
    "    disabled=False,\n",
    ")\n",
    "\n",
    "Runs_Selected = widgets.SelectMultiple(\n",
    "    options=Names,\n",
    "    style = {'width': '100px','description_width': '150px'},\n",
    "    rows=20,\n",
    "    layout=Layout(width='80%'),\n",
    "    description='Select runs',\n",
    "    disabled=False\n",
    ")\n",
    "\n",
    "Update_Plot = widgets.Button(description=\"Plot\")\n",
    "Update_Plot.on_click(Update_Plot_Clicked)\n",
    "\n",
    "display(widgets.Box([FolderPath,button_UpdateFileList]))\n",
    "display(widgets.Box([FileName,button_LoadData]))\n",
    "display(widgets.Box([Filter,Update_Runs]))\n",
    "display(Runs_Selected)\n",
    "display(Background)\n",
    "display(widgets.Box([Update_Plot,SpectraToClipboard]))\n",
    "\n",
    "out = widgets.Output()\n",
    "out"
   ]
  },
  {
   "cell_type": "markdown",
   "metadata": {},
   "source": [
    "***\n",
    "# Analyze Data"
   ]
  },
  {
   "cell_type": "code",
   "execution_count": 41,
   "metadata": {
    "jupyter": {
     "source_hidden": true
    }
   },
   "outputs": [
    {
     "data": {
      "application/vnd.jupyter.widget-view+json": {
       "model_id": "a94a71f5a95147018ad79d16a5e3c99c",
       "version_major": 2,
       "version_minor": 0
      },
      "text/plain": [
       "Box(children=(Dropdown(description='Analysis Method', layout=Layout(width='35%'), options=('Numerically Integr…"
      ]
     },
     "metadata": {},
     "output_type": "display_data"
    },
    {
     "data": {
      "application/vnd.jupyter.widget-view+json": {
       "model_id": "de290c430f2f493c91db2a7ae0e04fc4",
       "version_major": 2,
       "version_minor": 0
      },
      "text/plain": [
       "Box(children=(BoundedFloatText(value=380.0, description='Wavelength (nm)', layout=Layout(width='22%'), max=100…"
      ]
     },
     "metadata": {},
     "output_type": "display_data"
    },
    {
     "data": {
      "application/vnd.jupyter.widget-view+json": {
       "model_id": "66454b4ef3be404cb2548065ac4cb6c6",
       "version_major": 2,
       "version_minor": 0
      },
      "text/plain": [
       "Checkbox(value=False, description='Use most intense data point to determine wavelength', layout=Layout(width='…"
      ]
     },
     "metadata": {},
     "output_type": "display_data"
    },
    {
     "data": {
      "application/vnd.jupyter.widget-view+json": {
       "model_id": "bca4db8cea2740b794c55b44387db207",
       "version_major": 2,
       "version_minor": 0
      },
      "text/plain": [
       "Output()"
      ]
     },
     "metadata": {},
     "output_type": "display_data"
    }
   ],
   "source": [
    "import lmfit\n",
    "from lmfit import model\n",
    "from lmfit.models import SkewedGaussianModel, GaussianModel, LinearModel, VoigtModel, PolynomialModel\n",
    "\n",
    "import DataTools\n",
    "reload(DataTools)\n",
    "\n",
    "##### Button Functions #####\n",
    "\n",
    "def OkMethod(b) :\n",
    "    with out2 :\n",
    "        clear_output(True)\n",
    "        \n",
    "        def ResultsToClipboard_Clicked(b):\n",
    "            AnalysisResults.to_clipboard()\n",
    "        \n",
    "        if Analysis.value == 'Fit Data' :\n",
    "\n",
    "            ###### Setup arrays #####\n",
    "\n",
    "            B_Slope = list()\n",
    "            B_Intercept = list()\n",
    "            G_Amplitude = list()\n",
    "            G_Center = list()\n",
    "            G_Sigma = list()\n",
    "            G_Gamma = list()\n",
    "            Wavelength = list()\n",
    "            Amplitude_Norm = list()\n",
    "\n",
    "            ##### Determine reference fit function #####\n",
    "\n",
    "            Model = LinearModel(prefix='B_')\n",
    "            Model = Model + SkewedGaussianModel(prefix='G_')\n",
    "            Params = Model.make_params()\n",
    "\n",
    "            ##### Fit data #####\n",
    "\n",
    "            i = 0\n",
    "            while i < len(Runs_Selected.value) :\n",
    "                x = data.Spectra.iloc[:,0]\n",
    "                y = data.Spectra.iloc[:,i+1]\n",
    "                \n",
    "                if MaxValue.value == True :\n",
    "                    CenterWavelength = x[y.idxmax()]\n",
    "                else :\n",
    "                    CenterWavelength = SetWavelength.value\n",
    "                \n",
    "                ##### Define constraints #####\n",
    "\n",
    "                Params['B_slope'].value = 0\n",
    "                Params['B_slope'].vary = False\n",
    "                Params['B_intercept'].value = 0\n",
    "                Params['B_intercept'].vary = False\n",
    "                Params['G_amplitude'].value = y.max() * 50\n",
    "                Params['G_amplitude'].min = 0\n",
    "                Params['G_center'].value = CenterWavelength\n",
    "                Params['G_sigma'].value = SetWidth.value\n",
    "                Params['G_sigma'].max = 100\n",
    "                Params['G_gamma'].value = 3.5\n",
    "                \n",
    "                ##### Fit the data #####\n",
    "                \n",
    "                Fit = Model.fit(y, Params, x=x, fit_kws={'maxfev': 1000})\n",
    "                Comps = Fit.eval_components(Fit.params, x=x)\n",
    "\n",
    "                ##### Plot reference data and fits #####\n",
    "\n",
    "                plt.plot(x, y,'r.', label='data')\n",
    "                plt.plot(x, Fit.best_fit, 'k-', label='fit')\n",
    "                plt.plot(x, Comps['B_'], 'k--', label='Baseline')\n",
    "                plt.plot(x, Comps['G_'], 'b--', label='Gaussian')\n",
    "                plt.legend(), plt.xlabel('Wavelength (nm)'), plt.ylabel('Intensity (au)')\n",
    "                plt.title('Fluorescence')\n",
    "                plt.show()\n",
    "                print('Skewed Gaussian | Amplitude: ' + str(round(Fit.params['G_amplitude'].value,4)) + ', Center: ' + str(round(Fit.params['G_center'].value,1)) + ', Width: ' + str(round(Fit.params['G_sigma'].value,3)) + ', Skew: ' + str(round(Fit.params['G_gamma'].value,3)))\n",
    "                B_Slope.append(Fit.params['B_slope'].value)\n",
    "                B_Intercept.append(Fit.params['B_intercept'].value)\n",
    "                G_Amplitude.append(Fit.params['G_amplitude'].value)\n",
    "                G_Center.append(Fit.params['G_center'].value)\n",
    "                G_Sigma.append(Fit.params['G_sigma'].value)\n",
    "                G_Gamma.append(Fit.params['G_gamma'].value)\n",
    "                Wavelength.append(x[np.argmax(Fit.best_fit)])\n",
    "                Amplitude_Norm.append(G_Amplitude[i]/G_Amplitude[0])\n",
    "                i+=1\n",
    "\n",
    "                print('_____________________________________________________________________________________')\n",
    "\n",
    "            plt.figure(figsize=(10,5))\n",
    "            plt.xlabel('Run'), plt.ylabel('Amplitude')\n",
    "            plt.plot(G_Amplitude,'.-')\n",
    "            plt.show()\n",
    "\n",
    "            plt.figure(figsize=(10,5))\n",
    "            plt.xlabel('Run'), plt.ylabel('Wavelength')\n",
    "            plt.plot(Wavelength,'.-')\n",
    "            plt.show()\n",
    "            \n",
    "            DataHeader = list(('Wavelength','Amplitude (Max)','Amplitude (Norm)'))\n",
    "            AnalysisResults = np.zeros((3,len(Wavelength)))\n",
    "            AnalysisResults[0] = Wavelength\n",
    "            AnalysisResults[1] = G_Amplitude\n",
    "            AnalysisResults[2] = Amplitude_Norm\n",
    "            AnalysisResults = pd.DataFrame(data=np.transpose(AnalysisResults),columns=DataHeader)\n",
    "            AnalysisResults['Name'] = Runs_Selected.value\n",
    "            \n",
    "        if Analysis.value == 'Numerically Integrate' :\n",
    "            \n",
    "            Integrated = list()\n",
    "            Wavelength = list()\n",
    "            i = 0\n",
    "            while i < len(Runs_Selected.value) :\n",
    "                x = data.Spectra.iloc[:,0]\n",
    "                y = data.Spectra.iloc[:,i+1]\n",
    "                \n",
    "                if MaxValue.value == True :\n",
    "                    CenterIndex = y.idxmax()\n",
    "                else :\n",
    "                    CenterIndex = x[x == SetWavelength.value].index[0]\n",
    "                    \n",
    "                Index = list(range(int(CenterIndex-SetWidth.value/2),int(CenterIndex+SetWidth.value/2+1)))\n",
    "                Integrated.append(np.sum(y[Index]) * (x[1]-x[0]))\n",
    "                Wavelength.append(x[CenterIndex])\n",
    "                i+=1\n",
    "            \n",
    "            AnalysisResults = pd.DataFrame(data=np.transpose((Wavelength,Integrated)),columns=('Wavelength','Area'))\n",
    "            AnalysisResults['Name'] = Runs_Selected.value\n",
    "            \n",
    "            plt.figure(figsize=(10,5))\n",
    "            plt.xlabel('Run'), plt.ylabel('Intensity')\n",
    "            plt.plot(Integrated,'.-')\n",
    "            plt.show()\n",
    "\n",
    "            plt.figure(figsize=(10,5))\n",
    "            plt.xlabel('Run'), plt.ylabel('Wavelength')\n",
    "            plt.plot(Wavelength,'.-')\n",
    "            plt.show()\n",
    "            \n",
    "        ResultsToClipboard = widgets.Button(description=\"Copy results\")\n",
    "        ResultsToClipboard.on_click(ResultsToClipboard_Clicked)\n",
    "\n",
    "        display(ResultsToClipboard)\n",
    "\n",
    "##### Widgets #####\n",
    "\n",
    "Analysis = widgets.Dropdown(\n",
    "    options=['Numerically Integrate','Fit Data'],\n",
    "    description='Analysis Method',\n",
    "    layout=Layout(width='35%'),\n",
    "    style = {'description_width': '150px'},\n",
    "    disabled=False,\n",
    ")\n",
    "\n",
    "SetWavelength = widgets.BoundedFloatText(\n",
    "    value=int(np.mean(data.Spectra.iloc[:,0])),\n",
    "    min=1,\n",
    "    max=1000,\n",
    "    step=1,\n",
    "    description='Wavelength (nm)',\n",
    "    layout=Layout(width='22%'),\n",
    "    style = {'description_width': '150px'},\n",
    "    disabled=False\n",
    ")\n",
    "\n",
    "SetWidth = widgets.BoundedFloatText(\n",
    "    value=int(40),\n",
    "    min=1,\n",
    "    max=200,\n",
    "    step=1,\n",
    "    description='Width (nm)',\n",
    "    layout=Layout(width='22%'),\n",
    "    style = {'description_width': '150px'},\n",
    "    disabled=False\n",
    ")\n",
    "\n",
    "MaxValue = widgets.Checkbox(\n",
    "    value=False,\n",
    "    description='Use most intense data point to determine wavelength',\n",
    "    layout=Layout(width='60%'),\n",
    "    style = {'description_width': '150px'},\n",
    "    disabled=False\n",
    ")\n",
    "\n",
    "button_OkMethod = widgets.Button(description=\"OK\")\n",
    "button_OkMethod.on_click(OkMethod)\n",
    "\n",
    "display(widgets.Box([Analysis,button_OkMethod]))\n",
    "display(widgets.Box([SetWavelength,SetWidth]))\n",
    "display(MaxValue)\n",
    "\n",
    "out2 = widgets.Output()\n",
    "out2"
   ]
  },
  {
   "cell_type": "code",
   "execution_count": null,
   "metadata": {
    "jupyter": {
     "source_hidden": true
    }
   },
   "outputs": [],
   "source": []
  }
 ],
 "metadata": {
  "kernelspec": {
   "display_name": "Python 3",
   "language": "python",
   "name": "python3"
  },
  "language_info": {
   "codemirror_mode": {
    "name": "ipython",
    "version": 3
   },
   "file_extension": ".py",
   "mimetype": "text/x-python",
   "name": "python",
   "nbconvert_exporter": "python",
   "pygments_lexer": "ipython3",
   "version": "3.7.4"
  }
 },
 "nbformat": 4,
 "nbformat_minor": 4
}
