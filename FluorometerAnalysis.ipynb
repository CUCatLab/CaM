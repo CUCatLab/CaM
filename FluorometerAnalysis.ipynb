{
 "cells": [
  {
   "cell_type": "markdown",
   "id": "a486c077-db95-44f9-84e1-e8d85d82e60f",
   "metadata": {},
   "source": [
    "<h1>Fluorometer Analysis</h1>"
   ]
  },
  {
   "cell_type": "code",
   "execution_count": 25,
   "id": "177f0434-716c-4e64-ba9d-50615c846327",
   "metadata": {
    "tags": []
   },
   "outputs": [
    {
     "data": {
      "application/vnd.jupyter.widget-view+json": {
       "model_id": "ccecb7867e2948d7a12723d01a8da675",
       "version_major": 2,
       "version_minor": 0
      },
      "text/plain": [
       "HBox(children=(Text(value='C:\\\\Users\\\\larue\\\\Chapman University\\\\LaRue CatLab - Data\\\\2025\\\\2025.03.02', descr…"
      ]
     },
     "metadata": {},
     "output_type": "display_data"
    },
    {
     "data": {
      "application/vnd.jupyter.widget-view+json": {
       "model_id": "65e21a1846f74e3c8d8650a7a01f0d97",
       "version_major": 2,
       "version_minor": 0
      },
      "text/plain": [
       "HBox(children=(Select(description='Subfolders', layout=Layout(width='70%'), options=(), style=DescriptionStyle…"
      ]
     },
     "metadata": {},
     "output_type": "display_data"
    },
    {
     "data": {
      "application/vnd.jupyter.widget-view+json": {
       "model_id": "843eb580a2904f2b89dd6144d0b47127",
       "version_major": 2,
       "version_minor": 0
      },
      "text/plain": [
       "HBox(children=(Select(description='Files', layout=Layout(width='70%'), options=('Acquisition 1 2025-03-02 15_5…"
      ]
     },
     "metadata": {},
     "output_type": "display_data"
    },
    {
     "data": {
      "application/vnd.jupyter.widget-view+json": {
       "model_id": "76327b63c7194da2b53a58af9d7b3f94",
       "version_major": 2,
       "version_minor": 0
      },
      "text/plain": [
       "Box(children=(Text(value='', description='Filter:', placeholder='Type something', style=TextStyle(description_…"
      ]
     },
     "metadata": {},
     "output_type": "display_data"
    },
    {
     "data": {
      "application/vnd.jupyter.widget-view+json": {
       "model_id": "712caf4e20ad4eedb3b25fda416e1c1f",
       "version_major": 2,
       "version_minor": 0
      },
      "text/plain": [
       "Box(children=(SelectMultiple(description='Runs', layout=Layout(width='70%'), options=(), rows=20, style=Descri…"
      ]
     },
     "metadata": {},
     "output_type": "display_data"
    },
    {
     "data": {
      "application/vnd.jupyter.widget-view+json": {
       "model_id": "1345015c1d014b24b62d7919a930dbd1",
       "version_major": 2,
       "version_minor": 0
      },
      "text/plain": [
       "Box(children=(Dropdown(description='Buffer', layout=Layout(width='70%'), options=('None',), style=DescriptionS…"
      ]
     },
     "metadata": {},
     "output_type": "display_data"
    },
    {
     "data": {
      "application/vnd.jupyter.widget-view+json": {
       "model_id": "dc63a3ac92364caab91b27794b737ff9",
       "version_major": 2,
       "version_minor": 0
      },
      "text/plain": [
       "Output()"
      ]
     },
     "metadata": {},
     "output_type": "display_data"
    },
    {
     "data": {
      "application/vnd.jupyter.widget-view+json": {
       "model_id": "8dd240fedc174df6b3ed391dc478a40c",
       "version_major": 2,
       "version_minor": 0
      },
      "text/plain": [
       "Output()"
      ]
     },
     "metadata": {},
     "output_type": "display_data"
    }
   ],
   "source": [
    "from tools import fluorometer\n",
    "from importlib import reload\n",
    "reload(fluorometer)\n",
    "\n",
    "data = fluorometer.UI()"
   ]
  },
  {
   "cell_type": "markdown",
   "id": "8ee9383e-6593-4072-bbfa-ed3974d1b3bb",
   "metadata": {},
   "source": [
    " "
   ]
  }
 ],
 "metadata": {
  "kernelspec": {
   "display_name": "Python 3 (ipykernel)",
   "language": "python",
   "name": "python3"
  },
  "language_info": {
   "codemirror_mode": {
    "name": "ipython",
    "version": 3
   },
   "file_extension": ".py",
   "mimetype": "text/x-python",
   "name": "python",
   "nbconvert_exporter": "python",
   "pygments_lexer": "ipython3",
   "version": "3.10.16"
  }
 },
 "nbformat": 4,
 "nbformat_minor": 5
}
